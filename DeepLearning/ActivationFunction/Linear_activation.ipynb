{
  "nbformat": 4,
  "nbformat_minor": 0,
  "metadata": {
    "colab": {
      "provenance": []
    },
    "kernelspec": {
      "name": "python3",
      "display_name": "Python 3"
    },
    "language_info": {
      "name": "python"
    }
  },
  "cells": [
    {
      "cell_type": "code",
      "execution_count": null,
      "metadata": {
        "id": "3q5i9JmNpMrP"
      },
      "outputs": [],
      "source": [
        "def linear_activation(input ,weight=2 , bias=1)->float:\n",
        "\n",
        "  output = weight*input + bias\n",
        "  return output"
      ]
    },
    {
      "cell_type": "code",
      "source": [
        "x = [ 1, 3, 5, 7, 9] # feature\n",
        "y = [ 2.5 , 7 , 15, 20 , 25] # Target"
      ],
      "metadata": {
        "id": "yVg-M98y9ttY"
      },
      "execution_count": null,
      "outputs": []
    },
    {
      "cell_type": "code",
      "source": [
        "# predictions using Linear activation without gradient descent\n",
        "\n",
        "predictions = []\n",
        "\n",
        "for i in x:\n",
        "  predictions.append(linear_activation(input=i))\n"
      ],
      "metadata": {
        "id": "Y7GrpgKj-hMX"
      },
      "execution_count": null,
      "outputs": []
    },
    {
      "cell_type": "code",
      "source": [
        "print(f\"Actual Targets --> {y} \\n\")\n",
        "print(f\"Predictions --> {predictions}\")"
      ],
      "metadata": {
        "colab": {
          "base_uri": "https://localhost:8080/"
        },
        "id": "zIcoH_R3_Tsz",
        "outputId": "eb35eb44-b294-431a-96ff-d94f3806b5e3"
      },
      "execution_count": null,
      "outputs": [
        {
          "output_type": "stream",
          "name": "stdout",
          "text": [
            "Actual Targets --> [2.5, 7, 15, 20, 25] \n",
            "\n",
            "Predictions --> [3, 7, 11, 15, 19]\n"
          ]
        }
      ]
    },
    {
      "cell_type": "markdown",
      "source": [
        "## Using Gradient Descent"
      ],
      "metadata": {
        "id": "nEj3S6YDAwCM"
      }
    },
    {
      "cell_type": "code",
      "source": [
        "def gradient_descent(x:list , y:list , learning_rate:float=0.001, iterations:int=1000):\n",
        "\n",
        "    current_weight , current_bias = 0, 0\n",
        "\n",
        "    n = len(x)\n",
        "\n",
        "    # iterating the main loop over given number of iterations\n",
        "    for _ in range(iterations):\n",
        "\n",
        "        #initialise weight and bias derivatives as 0\n",
        "        weight_derivative = 0\n",
        "        bias_derivative = 0\n",
        "\n",
        "        for i in range(n):\n",
        "\n",
        "            # calculating predicted value of y based on formula\n",
        "            y_predicted = ( current_weight*x[i] + current_bias)\n",
        "\n",
        "            # Gradients of weight and bias\n",
        "            weight_derivative += (-2*x[i]/n)*(y[i] - y_predicted)\n",
        "            bias_derivative += (-2/n)*(y[i] - y_predicted)\n",
        "\n",
        "        current_weight -= learning_rate*weight_derivative\n",
        "        current_bias -= learning_rate*bias_derivative\n",
        "\n",
        "    return current_weight , current_bias"
      ],
      "metadata": {
        "id": "bwGQQcAs_MQG"
      },
      "execution_count": null,
      "outputs": []
    },
    {
      "cell_type": "code",
      "source": [
        "weight , bias = gradient_descent(x , y) # gives value of weight and bias"
      ],
      "metadata": {
        "id": "Cy_R2uK-AFWZ"
      },
      "execution_count": null,
      "outputs": []
    },
    {
      "cell_type": "code",
      "source": [
        "pred = []\n",
        "\n",
        "for i in x:\n",
        "  pred.append(linear_activation(input=i,weight=weight, bias = bias))"
      ],
      "metadata": {
        "id": "WJma3ZnuAaWn"
      },
      "execution_count": null,
      "outputs": []
    },
    {
      "cell_type": "code",
      "source": [
        "print(f\"Actual Targets --> {y} \\n\")\n",
        "print(f\"Predictions using gradient descent--> {pred}\")"
      ],
      "metadata": {
        "colab": {
          "base_uri": "https://localhost:8080/"
        },
        "id": "w5u4PwuZAL3Y",
        "outputId": "9da78354-dbae-4d79-9d51-ddf52976bac8"
      },
      "execution_count": null,
      "outputs": [
        {
          "output_type": "stream",
          "name": "stdout",
          "text": [
            "Actual Targets --> [2.5, 7, 15, 20, 25] \n",
            "\n",
            "Predictions using gradient descent--> [2.837443835888074, 8.443861449743718, 14.050279063599358, 19.656696677455002, 25.263114291310643]\n"
          ]
        }
      ]
    },
    {
      "cell_type": "code",
      "source": [],
      "metadata": {
        "id": "hjgGubtSATnS"
      },
      "execution_count": null,
      "outputs": []
    }
  ]
}